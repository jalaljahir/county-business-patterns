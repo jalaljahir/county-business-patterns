{
 "cells": [
  {
   "cell_type": "code",
   "execution_count": 1,
   "metadata": {
    "collapsed": false
   },
   "outputs": [],
   "source": [
    "import pandas as pd\n",
    "import requests\n",
    "import os\n",
    "import secrets\n",
    "import sys\n",
    "sys.path.append('./../cbp')\n",
    "import utils"
   ]
  },
  {
   "cell_type": "code",
   "execution_count": 2,
   "metadata": {
    "collapsed": false
   },
   "outputs": [],
   "source": [
    "# READ 2006 DATA FILE \n",
    "cbp06 = pd.read_csv('./cbp06co.txt')"
   ]
  },
  {
   "cell_type": "code",
   "execution_count": 3,
   "metadata": {
    "collapsed": false
   },
   "outputs": [
    {
     "data": {
      "text/html": [
       "<div>\n",
       "<table border=\"1\" class=\"dataframe\">\n",
       "  <thead>\n",
       "    <tr style=\"text-align: right;\">\n",
       "      <th></th>\n",
       "      <th>fipstate</th>\n",
       "      <th>fipscty</th>\n",
       "      <th>naics</th>\n",
       "      <th>empflag</th>\n",
       "      <th>emp</th>\n",
       "      <th>qp1</th>\n",
       "      <th>ap</th>\n",
       "      <th>est</th>\n",
       "      <th>n1_4</th>\n",
       "      <th>n5_9</th>\n",
       "      <th>...</th>\n",
       "      <th>n100_249</th>\n",
       "      <th>n250_499</th>\n",
       "      <th>n500_999</th>\n",
       "      <th>n1000</th>\n",
       "      <th>n1000_1</th>\n",
       "      <th>n1000_2</th>\n",
       "      <th>n1000_3</th>\n",
       "      <th>n1000_4</th>\n",
       "      <th>censtate</th>\n",
       "      <th>cencty</th>\n",
       "    </tr>\n",
       "  </thead>\n",
       "  <tbody>\n",
       "    <tr>\n",
       "      <th>1791801</th>\n",
       "      <td>48</td>\n",
       "      <td>1</td>\n",
       "      <td>------</td>\n",
       "      <td>NaN</td>\n",
       "      <td>11591</td>\n",
       "      <td>79324</td>\n",
       "      <td>344842</td>\n",
       "      <td>935</td>\n",
       "      <td>510</td>\n",
       "      <td>205</td>\n",
       "      <td>...</td>\n",
       "      <td>7</td>\n",
       "      <td>3</td>\n",
       "      <td>2</td>\n",
       "      <td>0</td>\n",
       "      <td>0</td>\n",
       "      <td>0</td>\n",
       "      <td>0</td>\n",
       "      <td>0</td>\n",
       "      <td>74</td>\n",
       "      <td>1</td>\n",
       "    </tr>\n",
       "    <tr>\n",
       "      <th>1791802</th>\n",
       "      <td>48</td>\n",
       "      <td>1</td>\n",
       "      <td>11----</td>\n",
       "      <td>A</td>\n",
       "      <td>0</td>\n",
       "      <td>0</td>\n",
       "      <td>0</td>\n",
       "      <td>2</td>\n",
       "      <td>0</td>\n",
       "      <td>2</td>\n",
       "      <td>...</td>\n",
       "      <td>0</td>\n",
       "      <td>0</td>\n",
       "      <td>0</td>\n",
       "      <td>0</td>\n",
       "      <td>0</td>\n",
       "      <td>0</td>\n",
       "      <td>0</td>\n",
       "      <td>0</td>\n",
       "      <td>74</td>\n",
       "      <td>1</td>\n",
       "    </tr>\n",
       "    <tr>\n",
       "      <th>1791803</th>\n",
       "      <td>48</td>\n",
       "      <td>1</td>\n",
       "      <td>113///</td>\n",
       "      <td>A</td>\n",
       "      <td>0</td>\n",
       "      <td>0</td>\n",
       "      <td>0</td>\n",
       "      <td>2</td>\n",
       "      <td>0</td>\n",
       "      <td>2</td>\n",
       "      <td>...</td>\n",
       "      <td>0</td>\n",
       "      <td>0</td>\n",
       "      <td>0</td>\n",
       "      <td>0</td>\n",
       "      <td>0</td>\n",
       "      <td>0</td>\n",
       "      <td>0</td>\n",
       "      <td>0</td>\n",
       "      <td>74</td>\n",
       "      <td>1</td>\n",
       "    </tr>\n",
       "    <tr>\n",
       "      <th>1791804</th>\n",
       "      <td>48</td>\n",
       "      <td>1</td>\n",
       "      <td>1131//</td>\n",
       "      <td>A</td>\n",
       "      <td>0</td>\n",
       "      <td>0</td>\n",
       "      <td>0</td>\n",
       "      <td>1</td>\n",
       "      <td>0</td>\n",
       "      <td>1</td>\n",
       "      <td>...</td>\n",
       "      <td>0</td>\n",
       "      <td>0</td>\n",
       "      <td>0</td>\n",
       "      <td>0</td>\n",
       "      <td>0</td>\n",
       "      <td>0</td>\n",
       "      <td>0</td>\n",
       "      <td>0</td>\n",
       "      <td>74</td>\n",
       "      <td>1</td>\n",
       "    </tr>\n",
       "    <tr>\n",
       "      <th>1791805</th>\n",
       "      <td>48</td>\n",
       "      <td>1</td>\n",
       "      <td>11311/</td>\n",
       "      <td>A</td>\n",
       "      <td>0</td>\n",
       "      <td>0</td>\n",
       "      <td>0</td>\n",
       "      <td>1</td>\n",
       "      <td>0</td>\n",
       "      <td>1</td>\n",
       "      <td>...</td>\n",
       "      <td>0</td>\n",
       "      <td>0</td>\n",
       "      <td>0</td>\n",
       "      <td>0</td>\n",
       "      <td>0</td>\n",
       "      <td>0</td>\n",
       "      <td>0</td>\n",
       "      <td>0</td>\n",
       "      <td>74</td>\n",
       "      <td>1</td>\n",
       "    </tr>\n",
       "  </tbody>\n",
       "</table>\n",
       "<p>5 rows × 23 columns</p>\n",
       "</div>"
      ],
      "text/plain": [
       "         fipstate  fipscty   naics empflag    emp    qp1      ap  est  n1_4  \\\n",
       "1791801        48        1  ------     NaN  11591  79324  344842  935   510   \n",
       "1791802        48        1  11----       A      0      0       0    2     0   \n",
       "1791803        48        1  113///       A      0      0       0    2     0   \n",
       "1791804        48        1  1131//       A      0      0       0    1     0   \n",
       "1791805        48        1  11311/       A      0      0       0    1     0   \n",
       "\n",
       "         n5_9   ...    n100_249  n250_499  n500_999  n1000  n1000_1  n1000_2  \\\n",
       "1791801   205   ...           7         3         2      0        0        0   \n",
       "1791802     2   ...           0         0         0      0        0        0   \n",
       "1791803     2   ...           0         0         0      0        0        0   \n",
       "1791804     1   ...           0         0         0      0        0        0   \n",
       "1791805     1   ...           0         0         0      0        0        0   \n",
       "\n",
       "         n1000_3  n1000_4  censtate  cencty  \n",
       "1791801        0        0        74       1  \n",
       "1791802        0        0        74       1  \n",
       "1791803        0        0        74       1  \n",
       "1791804        0        0        74       1  \n",
       "1791805        0        0        74       1  \n",
       "\n",
       "[5 rows x 23 columns]"
      ]
     },
     "execution_count": 3,
     "metadata": {},
     "output_type": "execute_result"
    }
   ],
   "source": [
    "# Filter for Texas\n",
    "tx06 = cbp06[cbp06.fipstate == 48]\n",
    "tx06.head()"
   ]
  },
  {
   "cell_type": "code",
   "execution_count": 4,
   "metadata": {
    "collapsed": false,
    "scrolled": true
   },
   "outputs": [
    {
     "name": "stderr",
     "output_type": "stream",
     "text": [
      "/home/paul/anaconda2/lib/python2.7/site-packages/pandas/core/generic.py:2701: SettingWithCopyWarning: \n",
      "A value is trying to be set on a copy of a slice from a DataFrame.\n",
      "Try using .loc[row_indexer,col_indexer] = value instead\n",
      "\n",
      "See the caveats in the documentation: http://pandas.pydata.org/pandas-docs/stable/indexing.html#indexing-view-versus-copy\n",
      "  self[name] = value\n"
     ]
    }
   ],
   "source": [
    "# Clean up NAICS codes\n",
    "tx06.naics = tx06.naics.str.replace('-', '')\n",
    "tx06.naics = tx06.naics.str.replace('/', '')\n",
    "tx06.naics = tx06.apply(lambda row: '00' if row.naics == '' else row.naics, axis = 1)"
   ]
  },
  {
   "cell_type": "code",
   "execution_count": 5,
   "metadata": {
    "collapsed": false,
    "scrolled": true
   },
   "outputs": [
    {
     "name": "stderr",
     "output_type": "stream",
     "text": [
      "/home/paul/anaconda2/lib/python2.7/site-packages/ipykernel/__main__.py:14: SettingWithCopyWarning: \n",
      "A value is trying to be set on a copy of a slice from a DataFrame.\n",
      "Try using .loc[row_indexer,col_indexer] = value instead\n",
      "\n",
      "See the caveats in the documentation: http://pandas.pydata.org/pandas-docs/stable/indexing.html#indexing-view-versus-copy\n"
     ]
    }
   ],
   "source": [
    "# Clean up County FIPS codes\n",
    "def county_fips(row):\n",
    "    \n",
    "    fips_str = str(row['fipscty'])\n",
    "    if len(fips_str) == 1:\n",
    "        fips = '00' + fips_str\n",
    "    elif len(fips_str) == 2:\n",
    "        fips = '0' + fips_str\n",
    "    else:\n",
    "        fips = fips_str\n",
    "        \n",
    "    return fips\n",
    "\n",
    "tx06['county'] = tx06.apply(county_fips, axis=1)"
   ]
  },
  {
   "cell_type": "code",
   "execution_count": 6,
   "metadata": {
    "collapsed": false
   },
   "outputs": [
    {
     "data": {
      "text/html": [
       "<div>\n",
       "<table border=\"1\" class=\"dataframe\">\n",
       "  <thead>\n",
       "    <tr style=\"text-align: right;\">\n",
       "      <th></th>\n",
       "      <th>fipstate</th>\n",
       "      <th>fipscty</th>\n",
       "      <th>naics</th>\n",
       "      <th>empflag</th>\n",
       "      <th>emp</th>\n",
       "      <th>qp1</th>\n",
       "      <th>ap</th>\n",
       "      <th>est</th>\n",
       "      <th>n1_4</th>\n",
       "      <th>n5_9</th>\n",
       "      <th>...</th>\n",
       "      <th>n250_499</th>\n",
       "      <th>n500_999</th>\n",
       "      <th>n1000</th>\n",
       "      <th>n1000_1</th>\n",
       "      <th>n1000_2</th>\n",
       "      <th>n1000_3</th>\n",
       "      <th>n1000_4</th>\n",
       "      <th>censtate</th>\n",
       "      <th>cencty</th>\n",
       "      <th>county</th>\n",
       "    </tr>\n",
       "  </thead>\n",
       "  <tbody>\n",
       "    <tr>\n",
       "      <th>1791801</th>\n",
       "      <td>48</td>\n",
       "      <td>1</td>\n",
       "      <td>00</td>\n",
       "      <td>NaN</td>\n",
       "      <td>11591</td>\n",
       "      <td>79324</td>\n",
       "      <td>344842</td>\n",
       "      <td>935</td>\n",
       "      <td>510</td>\n",
       "      <td>205</td>\n",
       "      <td>...</td>\n",
       "      <td>3</td>\n",
       "      <td>2</td>\n",
       "      <td>0</td>\n",
       "      <td>0</td>\n",
       "      <td>0</td>\n",
       "      <td>0</td>\n",
       "      <td>0</td>\n",
       "      <td>74</td>\n",
       "      <td>1</td>\n",
       "      <td>001</td>\n",
       "    </tr>\n",
       "    <tr>\n",
       "      <th>1791802</th>\n",
       "      <td>48</td>\n",
       "      <td>1</td>\n",
       "      <td>11</td>\n",
       "      <td>A</td>\n",
       "      <td>0</td>\n",
       "      <td>0</td>\n",
       "      <td>0</td>\n",
       "      <td>2</td>\n",
       "      <td>0</td>\n",
       "      <td>2</td>\n",
       "      <td>...</td>\n",
       "      <td>0</td>\n",
       "      <td>0</td>\n",
       "      <td>0</td>\n",
       "      <td>0</td>\n",
       "      <td>0</td>\n",
       "      <td>0</td>\n",
       "      <td>0</td>\n",
       "      <td>74</td>\n",
       "      <td>1</td>\n",
       "      <td>001</td>\n",
       "    </tr>\n",
       "    <tr>\n",
       "      <th>1791803</th>\n",
       "      <td>48</td>\n",
       "      <td>1</td>\n",
       "      <td>113</td>\n",
       "      <td>A</td>\n",
       "      <td>0</td>\n",
       "      <td>0</td>\n",
       "      <td>0</td>\n",
       "      <td>2</td>\n",
       "      <td>0</td>\n",
       "      <td>2</td>\n",
       "      <td>...</td>\n",
       "      <td>0</td>\n",
       "      <td>0</td>\n",
       "      <td>0</td>\n",
       "      <td>0</td>\n",
       "      <td>0</td>\n",
       "      <td>0</td>\n",
       "      <td>0</td>\n",
       "      <td>74</td>\n",
       "      <td>1</td>\n",
       "      <td>001</td>\n",
       "    </tr>\n",
       "    <tr>\n",
       "      <th>1791804</th>\n",
       "      <td>48</td>\n",
       "      <td>1</td>\n",
       "      <td>1131</td>\n",
       "      <td>A</td>\n",
       "      <td>0</td>\n",
       "      <td>0</td>\n",
       "      <td>0</td>\n",
       "      <td>1</td>\n",
       "      <td>0</td>\n",
       "      <td>1</td>\n",
       "      <td>...</td>\n",
       "      <td>0</td>\n",
       "      <td>0</td>\n",
       "      <td>0</td>\n",
       "      <td>0</td>\n",
       "      <td>0</td>\n",
       "      <td>0</td>\n",
       "      <td>0</td>\n",
       "      <td>74</td>\n",
       "      <td>1</td>\n",
       "      <td>001</td>\n",
       "    </tr>\n",
       "    <tr>\n",
       "      <th>1791805</th>\n",
       "      <td>48</td>\n",
       "      <td>1</td>\n",
       "      <td>11311</td>\n",
       "      <td>A</td>\n",
       "      <td>0</td>\n",
       "      <td>0</td>\n",
       "      <td>0</td>\n",
       "      <td>1</td>\n",
       "      <td>0</td>\n",
       "      <td>1</td>\n",
       "      <td>...</td>\n",
       "      <td>0</td>\n",
       "      <td>0</td>\n",
       "      <td>0</td>\n",
       "      <td>0</td>\n",
       "      <td>0</td>\n",
       "      <td>0</td>\n",
       "      <td>0</td>\n",
       "      <td>74</td>\n",
       "      <td>1</td>\n",
       "      <td>001</td>\n",
       "    </tr>\n",
       "  </tbody>\n",
       "</table>\n",
       "<p>5 rows × 24 columns</p>\n",
       "</div>"
      ],
      "text/plain": [
       "         fipstate  fipscty  naics empflag    emp    qp1      ap  est  n1_4  \\\n",
       "1791801        48        1     00     NaN  11591  79324  344842  935   510   \n",
       "1791802        48        1     11       A      0      0       0    2     0   \n",
       "1791803        48        1    113       A      0      0       0    2     0   \n",
       "1791804        48        1   1131       A      0      0       0    1     0   \n",
       "1791805        48        1  11311       A      0      0       0    1     0   \n",
       "\n",
       "         n5_9   ...    n250_499  n500_999  n1000  n1000_1  n1000_2  n1000_3  \\\n",
       "1791801   205   ...           3         2      0        0        0        0   \n",
       "1791802     2   ...           0         0      0        0        0        0   \n",
       "1791803     2   ...           0         0      0        0        0        0   \n",
       "1791804     1   ...           0         0      0        0        0        0   \n",
       "1791805     1   ...           0         0      0        0        0        0   \n",
       "\n",
       "         n1000_4  censtate  cencty  county  \n",
       "1791801        0        74       1     001  \n",
       "1791802        0        74       1     001  \n",
       "1791803        0        74       1     001  \n",
       "1791804        0        74       1     001  \n",
       "1791805        0        74       1     001  \n",
       "\n",
       "[5 rows x 24 columns]"
      ]
     },
     "execution_count": 6,
     "metadata": {},
     "output_type": "execute_result"
    }
   ],
   "source": [
    "tx06.head()"
   ]
  },
  {
   "cell_type": "code",
   "execution_count": 7,
   "metadata": {
    "collapsed": true
   },
   "outputs": [],
   "source": [
    "# Reduce to relevant columns\n",
    "\n",
    "tx06 = tx06.loc[:, ['emp', 'est', 'naics', 'fipstate', 'county']]"
   ]
  },
  {
   "cell_type": "code",
   "execution_count": 8,
   "metadata": {
    "collapsed": false
   },
   "outputs": [
    {
     "data": {
      "text/html": [
       "<div>\n",
       "<table border=\"1\" class=\"dataframe\">\n",
       "  <thead>\n",
       "    <tr style=\"text-align: right;\">\n",
       "      <th></th>\n",
       "      <th>emp</th>\n",
       "      <th>est</th>\n",
       "      <th>naics</th>\n",
       "      <th>fipstate</th>\n",
       "      <th>county</th>\n",
       "    </tr>\n",
       "  </thead>\n",
       "  <tbody>\n",
       "    <tr>\n",
       "      <th>1791801</th>\n",
       "      <td>11591</td>\n",
       "      <td>935</td>\n",
       "      <td>00</td>\n",
       "      <td>48</td>\n",
       "      <td>001</td>\n",
       "    </tr>\n",
       "    <tr>\n",
       "      <th>1791802</th>\n",
       "      <td>0</td>\n",
       "      <td>2</td>\n",
       "      <td>11</td>\n",
       "      <td>48</td>\n",
       "      <td>001</td>\n",
       "    </tr>\n",
       "    <tr>\n",
       "      <th>1791803</th>\n",
       "      <td>0</td>\n",
       "      <td>2</td>\n",
       "      <td>113</td>\n",
       "      <td>48</td>\n",
       "      <td>001</td>\n",
       "    </tr>\n",
       "    <tr>\n",
       "      <th>1791804</th>\n",
       "      <td>0</td>\n",
       "      <td>1</td>\n",
       "      <td>1131</td>\n",
       "      <td>48</td>\n",
       "      <td>001</td>\n",
       "    </tr>\n",
       "    <tr>\n",
       "      <th>1791805</th>\n",
       "      <td>0</td>\n",
       "      <td>1</td>\n",
       "      <td>11311</td>\n",
       "      <td>48</td>\n",
       "      <td>001</td>\n",
       "    </tr>\n",
       "  </tbody>\n",
       "</table>\n",
       "</div>"
      ],
      "text/plain": [
       "           emp  est  naics  fipstate county\n",
       "1791801  11591  935     00        48    001\n",
       "1791802      0    2     11        48    001\n",
       "1791803      0    2    113        48    001\n",
       "1791804      0    1   1131        48    001\n",
       "1791805      0    1  11311        48    001"
      ]
     },
     "execution_count": 8,
     "metadata": {},
     "output_type": "execute_result"
    }
   ],
   "source": [
    "tx06.head()"
   ]
  },
  {
   "cell_type": "code",
   "execution_count": 9,
   "metadata": {
    "collapsed": false
   },
   "outputs": [],
   "source": [
    "naics2007 = utils.update_naics(years='2002-2007', old_series=tx06.naics)\n",
    "naics2012 = utils.update_naics(years='2007-2012', old_series=naics2007)"
   ]
  },
  {
   "cell_type": "code",
   "execution_count": 10,
   "metadata": {
    "collapsed": true
   },
   "outputs": [],
   "source": [
    "tx06['naics2012'] = naics2012"
   ]
  },
  {
   "cell_type": "code",
   "execution_count": 11,
   "metadata": {
    "collapsed": false
   },
   "outputs": [
    {
     "data": {
      "text/html": [
       "<div>\n",
       "<table border=\"1\" class=\"dataframe\">\n",
       "  <thead>\n",
       "    <tr style=\"text-align: right;\">\n",
       "      <th></th>\n",
       "      <th>emp</th>\n",
       "      <th>est</th>\n",
       "      <th>naics</th>\n",
       "      <th>fipstate</th>\n",
       "      <th>county</th>\n",
       "      <th>naics2012</th>\n",
       "    </tr>\n",
       "  </thead>\n",
       "  <tbody>\n",
       "    <tr>\n",
       "      <th>1791801</th>\n",
       "      <td>11591</td>\n",
       "      <td>935</td>\n",
       "      <td>00</td>\n",
       "      <td>48</td>\n",
       "      <td>001</td>\n",
       "      <td>00</td>\n",
       "    </tr>\n",
       "    <tr>\n",
       "      <th>1791802</th>\n",
       "      <td>0</td>\n",
       "      <td>2</td>\n",
       "      <td>11</td>\n",
       "      <td>48</td>\n",
       "      <td>001</td>\n",
       "      <td>11</td>\n",
       "    </tr>\n",
       "    <tr>\n",
       "      <th>1791803</th>\n",
       "      <td>0</td>\n",
       "      <td>2</td>\n",
       "      <td>113</td>\n",
       "      <td>48</td>\n",
       "      <td>001</td>\n",
       "      <td>113</td>\n",
       "    </tr>\n",
       "    <tr>\n",
       "      <th>1791804</th>\n",
       "      <td>0</td>\n",
       "      <td>1</td>\n",
       "      <td>1131</td>\n",
       "      <td>48</td>\n",
       "      <td>001</td>\n",
       "      <td>1131</td>\n",
       "    </tr>\n",
       "    <tr>\n",
       "      <th>1791805</th>\n",
       "      <td>0</td>\n",
       "      <td>1</td>\n",
       "      <td>11311</td>\n",
       "      <td>48</td>\n",
       "      <td>001</td>\n",
       "      <td>11311</td>\n",
       "    </tr>\n",
       "  </tbody>\n",
       "</table>\n",
       "</div>"
      ],
      "text/plain": [
       "           emp  est  naics  fipstate county naics2012\n",
       "1791801  11591  935     00        48    001        00\n",
       "1791802      0    2     11        48    001        11\n",
       "1791803      0    2    113        48    001       113\n",
       "1791804      0    1   1131        48    001      1131\n",
       "1791805      0    1  11311        48    001     11311"
      ]
     },
     "execution_count": 11,
     "metadata": {},
     "output_type": "execute_result"
    }
   ],
   "source": [
    "tx06.head()"
   ]
  },
  {
   "cell_type": "code",
   "execution_count": 18,
   "metadata": {
    "collapsed": true
   },
   "outputs": [],
   "source": [
    "tx06.fipstate = tx06.fipstate.astype('str')"
   ]
  },
  {
   "cell_type": "code",
   "execution_count": 24,
   "metadata": {
    "collapsed": false
   },
   "outputs": [
    {
     "data": {
      "text/plain": [
       "EMP           int64\n",
       "ESTAB         int64\n",
       "old_naics    object\n",
       "state        object\n",
       "county       object\n",
       "NAICS2012    object\n",
       "dtype: object"
      ]
     },
     "execution_count": 24,
     "metadata": {},
     "output_type": "execute_result"
    }
   ],
   "source": [
    "tx06.dtypes"
   ]
  },
  {
   "cell_type": "code",
   "execution_count": 20,
   "metadata": {
    "collapsed": true
   },
   "outputs": [],
   "source": [
    "tx06.columns = ['EMP', 'ESTAB', 'old_naics', 'state', 'county', 'NAICS2012']"
   ]
  },
  {
   "cell_type": "code",
   "execution_count": 30,
   "metadata": {
    "collapsed": false
   },
   "outputs": [],
   "source": [
    "tx06.NAICS2012.replace(to_replace='31', value='31-33', inplace=True)\n",
    "tx06.NAICS2012.replace(to_replace='44', value='44-45', inplace=True)\n",
    "tx06.NAICS2012.replace(to_replace='48', value='48-49', inplace=True)"
   ]
  },
  {
   "cell_type": "code",
   "execution_count": 31,
   "metadata": {
    "collapsed": false
   },
   "outputs": [],
   "source": [
    "tx06.to_csv('./texas_cbp_2006.csv', index=False)"
   ]
  },
  {
   "cell_type": "code",
   "execution_count": null,
   "metadata": {
    "collapsed": true
   },
   "outputs": [],
   "source": []
  }
 ],
 "metadata": {
  "kernelspec": {
   "display_name": "Python 2",
   "language": "python",
   "name": "python2"
  },
  "language_info": {
   "codemirror_mode": {
    "name": "ipython",
    "version": 2
   },
   "file_extension": ".py",
   "mimetype": "text/x-python",
   "name": "python",
   "nbconvert_exporter": "python",
   "pygments_lexer": "ipython2",
   "version": "2.7.12"
  }
 },
 "nbformat": 4,
 "nbformat_minor": 0
}
