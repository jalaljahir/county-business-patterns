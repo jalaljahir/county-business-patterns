{
 "cells": [
  {
   "cell_type": "code",
   "execution_count": 38,
   "metadata": {
    "collapsed": false
   },
   "outputs": [],
   "source": [
    "from __future__ import division\n",
    "import sys\n",
    "sys.path.append('./../cbp')\n",
    "import utils\n",
    "import cbp\n",
    "import pandas as pd\n",
    "import secrets\n",
    "from cbp import Counties"
   ]
  },
  {
   "cell_type": "code",
   "execution_count": 2,
   "metadata": {
    "collapsed": false
   },
   "outputs": [],
   "source": [
    "# texas_api = Counties(state_fips='48', read_from='api', key=secrets.censuskey)\n",
    "# texas_api.head()\n",
    "# texas_api.to_csv('texas_cbp_2014.csv', index=False)"
   ]
  },
  {
   "cell_type": "code",
   "execution_count": 3,
   "metadata": {
    "collapsed": false
   },
   "outputs": [],
   "source": [
    "texas = Counties(state_fips='48', read_from='csv', filepath='texas_cbp_2014.csv')"
   ]
  },
  {
   "cell_type": "code",
   "execution_count": 4,
   "metadata": {
    "collapsed": false
   },
   "outputs": [
    {
     "data": {
      "text/html": [
       "<div>\n",
       "<table border=\"1\" class=\"dataframe\">\n",
       "  <thead>\n",
       "    <tr style=\"text-align: right;\">\n",
       "      <th></th>\n",
       "      <th>EMP</th>\n",
       "      <th>ESTAB</th>\n",
       "      <th>NAICS2012</th>\n",
       "      <th>NAICS2012_TTL</th>\n",
       "      <th>GEO_TTL</th>\n",
       "      <th>state</th>\n",
       "      <th>county</th>\n",
       "    </tr>\n",
       "  </thead>\n",
       "  <tbody>\n",
       "    <tr>\n",
       "      <th>0</th>\n",
       "      <td>11738</td>\n",
       "      <td>940</td>\n",
       "      <td>00</td>\n",
       "      <td>Total for all sectors</td>\n",
       "      <td>Anderson County</td>\n",
       "      <td>48</td>\n",
       "      <td>001</td>\n",
       "    </tr>\n",
       "    <tr>\n",
       "      <th>1</th>\n",
       "      <td>5683</td>\n",
       "      <td>403</td>\n",
       "      <td>00</td>\n",
       "      <td>Total for all sectors</td>\n",
       "      <td>Andrews County</td>\n",
       "      <td>48</td>\n",
       "      <td>003</td>\n",
       "    </tr>\n",
       "    <tr>\n",
       "      <th>2</th>\n",
       "      <td>30525</td>\n",
       "      <td>1857</td>\n",
       "      <td>00</td>\n",
       "      <td>Total for all sectors</td>\n",
       "      <td>Angelina County</td>\n",
       "      <td>48</td>\n",
       "      <td>005</td>\n",
       "    </tr>\n",
       "    <tr>\n",
       "      <th>3</th>\n",
       "      <td>4131</td>\n",
       "      <td>503</td>\n",
       "      <td>00</td>\n",
       "      <td>Total for all sectors</td>\n",
       "      <td>Aransas County</td>\n",
       "      <td>48</td>\n",
       "      <td>007</td>\n",
       "    </tr>\n",
       "    <tr>\n",
       "      <th>4</th>\n",
       "      <td>1539</td>\n",
       "      <td>201</td>\n",
       "      <td>00</td>\n",
       "      <td>Total for all sectors</td>\n",
       "      <td>Archer County</td>\n",
       "      <td>48</td>\n",
       "      <td>009</td>\n",
       "    </tr>\n",
       "  </tbody>\n",
       "</table>\n",
       "</div>"
      ],
      "text/plain": [
       "     EMP  ESTAB NAICS2012          NAICS2012_TTL          GEO_TTL state county\n",
       "0  11738    940        00  Total for all sectors  Anderson County    48    001\n",
       "1   5683    403        00  Total for all sectors   Andrews County    48    003\n",
       "2  30525   1857        00  Total for all sectors  Angelina County    48    005\n",
       "3   4131    503        00  Total for all sectors   Aransas County    48    007\n",
       "4   1539    201        00  Total for all sectors    Archer County    48    009"
      ]
     },
     "execution_count": 4,
     "metadata": {},
     "output_type": "execute_result"
    }
   ],
   "source": [
    "texas.head()"
   ]
  },
  {
   "cell_type": "code",
   "execution_count": 5,
   "metadata": {
    "collapsed": false,
    "scrolled": true
   },
   "outputs": [
    {
     "data": {
      "text/plain": [
       "144585"
      ]
     },
     "execution_count": 5,
     "metadata": {},
     "output_type": "execute_result"
    }
   ],
   "source": [
    "len(texas)"
   ]
  },
  {
   "cell_type": "code",
   "execution_count": 6,
   "metadata": {
    "collapsed": false
   },
   "outputs": [
    {
     "name": "stdout",
     "output_type": "stream",
     "text": [
      "['021', '055', '209', '453', '491']\n"
     ]
    }
   ],
   "source": [
    "fips = []\n",
    "for county in \"Bastrop, Caldwell, Hays, Travis, Williamson\".split(\", \"):\n",
    "    fips.append(texas[(texas.NAICS2012 == '00') & (texas.GEO_TTL.str.contains(county))]['county'].iloc[0])\n",
    "print fips"
   ]
  },
  {
   "cell_type": "code",
   "execution_count": 7,
   "metadata": {
    "collapsed": false
   },
   "outputs": [],
   "source": [
    "austin_region = texas.two_digit(county=fips)"
   ]
  },
  {
   "cell_type": "code",
   "execution_count": 8,
   "metadata": {
    "collapsed": false
   },
   "outputs": [
    {
     "data": {
      "text/html": [
       "<div>\n",
       "<table border=\"1\" class=\"dataframe\">\n",
       "  <thead>\n",
       "    <tr style=\"text-align: right;\">\n",
       "      <th></th>\n",
       "      <th>EMP</th>\n",
       "      <th>ESTAB</th>\n",
       "      <th>NAICS2012</th>\n",
       "      <th>NAICS2012_TTL</th>\n",
       "      <th>GEO_TTL</th>\n",
       "      <th>state</th>\n",
       "      <th>county</th>\n",
       "    </tr>\n",
       "  </thead>\n",
       "  <tbody>\n",
       "    <tr>\n",
       "      <th>10</th>\n",
       "      <td>12475</td>\n",
       "      <td>1175</td>\n",
       "      <td>00</td>\n",
       "      <td>Total for all sectors</td>\n",
       "      <td>Bastrop County</td>\n",
       "      <td>48</td>\n",
       "      <td>021</td>\n",
       "    </tr>\n",
       "    <tr>\n",
       "      <th>27</th>\n",
       "      <td>6116</td>\n",
       "      <td>580</td>\n",
       "      <td>00</td>\n",
       "      <td>Total for all sectors</td>\n",
       "      <td>Caldwell County</td>\n",
       "      <td>48</td>\n",
       "      <td>055</td>\n",
       "    </tr>\n",
       "    <tr>\n",
       "      <th>104</th>\n",
       "      <td>46675</td>\n",
       "      <td>3660</td>\n",
       "      <td>00</td>\n",
       "      <td>Total for all sectors</td>\n",
       "      <td>Hays County</td>\n",
       "      <td>48</td>\n",
       "      <td>209</td>\n",
       "    </tr>\n",
       "    <tr>\n",
       "      <th>225</th>\n",
       "      <td>544038</td>\n",
       "      <td>32217</td>\n",
       "      <td>00</td>\n",
       "      <td>Total for all sectors</td>\n",
       "      <td>Travis County</td>\n",
       "      <td>48</td>\n",
       "      <td>453</td>\n",
       "    </tr>\n",
       "    <tr>\n",
       "      <th>244</th>\n",
       "      <td>136393</td>\n",
       "      <td>9252</td>\n",
       "      <td>00</td>\n",
       "      <td>Total for all sectors</td>\n",
       "      <td>Williamson County</td>\n",
       "      <td>48</td>\n",
       "      <td>491</td>\n",
       "    </tr>\n",
       "  </tbody>\n",
       "</table>\n",
       "</div>"
      ],
      "text/plain": [
       "        EMP  ESTAB NAICS2012          NAICS2012_TTL            GEO_TTL state  \\\n",
       "10    12475   1175        00  Total for all sectors     Bastrop County    48   \n",
       "27     6116    580        00  Total for all sectors    Caldwell County    48   \n",
       "104   46675   3660        00  Total for all sectors        Hays County    48   \n",
       "225  544038  32217        00  Total for all sectors      Travis County    48   \n",
       "244  136393   9252        00  Total for all sectors  Williamson County    48   \n",
       "\n",
       "    county  \n",
       "10     021  \n",
       "27     055  \n",
       "104    209  \n",
       "225    453  \n",
       "244    491  "
      ]
     },
     "execution_count": 8,
     "metadata": {},
     "output_type": "execute_result"
    }
   ],
   "source": [
    "austin_region.head()"
   ]
  },
  {
   "cell_type": "code",
   "execution_count": 9,
   "metadata": {
    "collapsed": true
   },
   "outputs": [],
   "source": [
    "aggs = {\n",
    "    'EMP':'sum',\n",
    "    'ESTAB':'sum',\n",
    "    'NAICS2012_TTL':'first'\n",
    "}\n",
    "austin_msa = austin_region.groupby('NAICS2012',as_index=False).agg(aggs)\n",
    "austin_msa['GEO_TTL'] = 'Austin-Round Rock MSA'"
   ]
  },
  {
   "cell_type": "code",
   "execution_count": 10,
   "metadata": {
    "collapsed": false
   },
   "outputs": [
    {
     "data": {
      "text/html": [
       "<div>\n",
       "<table border=\"1\" class=\"dataframe\">\n",
       "  <thead>\n",
       "    <tr style=\"text-align: right;\">\n",
       "      <th></th>\n",
       "      <th>NAICS2012</th>\n",
       "      <th>NAICS2012_TTL</th>\n",
       "      <th>ESTAB</th>\n",
       "      <th>EMP</th>\n",
       "      <th>GEO_TTL</th>\n",
       "    </tr>\n",
       "  </thead>\n",
       "  <tbody>\n",
       "    <tr>\n",
       "      <th>0</th>\n",
       "      <td>00</td>\n",
       "      <td>Total for all sectors</td>\n",
       "      <td>46884</td>\n",
       "      <td>745697</td>\n",
       "      <td>Austin-Round Rock MSA</td>\n",
       "    </tr>\n",
       "    <tr>\n",
       "      <th>1</th>\n",
       "      <td>11</td>\n",
       "      <td>Agriculture, Forestry, Fishing and Hunting</td>\n",
       "      <td>28</td>\n",
       "      <td>21</td>\n",
       "      <td>Austin-Round Rock MSA</td>\n",
       "    </tr>\n",
       "    <tr>\n",
       "      <th>2</th>\n",
       "      <td>21</td>\n",
       "      <td>Mining, Quarrying, and Oil and Gas Extraction</td>\n",
       "      <td>216</td>\n",
       "      <td>2440</td>\n",
       "      <td>Austin-Round Rock MSA</td>\n",
       "    </tr>\n",
       "    <tr>\n",
       "      <th>3</th>\n",
       "      <td>22</td>\n",
       "      <td>Utilities</td>\n",
       "      <td>116</td>\n",
       "      <td>2282</td>\n",
       "      <td>Austin-Round Rock MSA</td>\n",
       "    </tr>\n",
       "    <tr>\n",
       "      <th>4</th>\n",
       "      <td>23</td>\n",
       "      <td>Construction</td>\n",
       "      <td>3665</td>\n",
       "      <td>45334</td>\n",
       "      <td>Austin-Round Rock MSA</td>\n",
       "    </tr>\n",
       "  </tbody>\n",
       "</table>\n",
       "</div>"
      ],
      "text/plain": [
       "  NAICS2012                                  NAICS2012_TTL  ESTAB     EMP  \\\n",
       "0        00                          Total for all sectors  46884  745697   \n",
       "1        11     Agriculture, Forestry, Fishing and Hunting     28      21   \n",
       "2        21  Mining, Quarrying, and Oil and Gas Extraction    216    2440   \n",
       "3        22                                      Utilities    116    2282   \n",
       "4        23                                   Construction   3665   45334   \n",
       "\n",
       "                 GEO_TTL  \n",
       "0  Austin-Round Rock MSA  \n",
       "1  Austin-Round Rock MSA  \n",
       "2  Austin-Round Rock MSA  \n",
       "3  Austin-Round Rock MSA  \n",
       "4  Austin-Round Rock MSA  "
      ]
     },
     "execution_count": 10,
     "metadata": {},
     "output_type": "execute_result"
    }
   ],
   "source": [
    "austin_msa.head()"
   ]
  },
  {
   "cell_type": "code",
   "execution_count": 11,
   "metadata": {
    "collapsed": false
   },
   "outputs": [],
   "source": [
    "texas_total_emp = texas.two_digit().groupby('NAICS2012').agg('sum').EMP\n",
    "austin_msa_emp = austin_msa.set_index('NAICS2012').EMP\n",
    "lq = pd.DataFrame(utils.location_quotient(austin_msa_emp, texas_total_emp))\n",
    "austin_msa = austin_msa.merge(lq, left_on='NAICS2012', right_index=True)"
   ]
  },
  {
   "cell_type": "code",
   "execution_count": 12,
   "metadata": {
    "collapsed": false
   },
   "outputs": [
    {
     "data": {
      "text/html": [
       "<div>\n",
       "<table border=\"1\" class=\"dataframe\">\n",
       "  <thead>\n",
       "    <tr style=\"text-align: right;\">\n",
       "      <th></th>\n",
       "      <th>NAICS2012</th>\n",
       "      <th>NAICS2012_TTL</th>\n",
       "      <th>ESTAB</th>\n",
       "      <th>EMP</th>\n",
       "      <th>GEO_TTL</th>\n",
       "      <th>location_quotient</th>\n",
       "    </tr>\n",
       "  </thead>\n",
       "  <tbody>\n",
       "    <tr>\n",
       "      <th>0</th>\n",
       "      <td>00</td>\n",
       "      <td>Total for all sectors</td>\n",
       "      <td>46884</td>\n",
       "      <td>745697</td>\n",
       "      <td>Austin-Round Rock MSA</td>\n",
       "      <td>1.000000</td>\n",
       "    </tr>\n",
       "    <tr>\n",
       "      <th>1</th>\n",
       "      <td>11</td>\n",
       "      <td>Agriculture, Forestry, Fishing and Hunting</td>\n",
       "      <td>28</td>\n",
       "      <td>21</td>\n",
       "      <td>Austin-Round Rock MSA</td>\n",
       "      <td>0.069275</td>\n",
       "    </tr>\n",
       "    <tr>\n",
       "      <th>2</th>\n",
       "      <td>21</td>\n",
       "      <td>Mining, Quarrying, and Oil and Gas Extraction</td>\n",
       "      <td>216</td>\n",
       "      <td>2440</td>\n",
       "      <td>Austin-Round Rock MSA</td>\n",
       "      <td>0.160404</td>\n",
       "    </tr>\n",
       "    <tr>\n",
       "      <th>3</th>\n",
       "      <td>22</td>\n",
       "      <td>Utilities</td>\n",
       "      <td>116</td>\n",
       "      <td>2282</td>\n",
       "      <td>Austin-Round Rock MSA</td>\n",
       "      <td>0.816960</td>\n",
       "    </tr>\n",
       "    <tr>\n",
       "      <th>4</th>\n",
       "      <td>23</td>\n",
       "      <td>Construction</td>\n",
       "      <td>3665</td>\n",
       "      <td>45334</td>\n",
       "      <td>Austin-Round Rock MSA</td>\n",
       "      <td>1.003203</td>\n",
       "    </tr>\n",
       "    <tr>\n",
       "      <th>5</th>\n",
       "      <td>31-33</td>\n",
       "      <td>Manufacturing</td>\n",
       "      <td>1299</td>\n",
       "      <td>42592</td>\n",
       "      <td>Austin-Round Rock MSA</td>\n",
       "      <td>0.709544</td>\n",
       "    </tr>\n",
       "    <tr>\n",
       "      <th>6</th>\n",
       "      <td>42</td>\n",
       "      <td>Wholesale Trade</td>\n",
       "      <td>2032</td>\n",
       "      <td>34186</td>\n",
       "      <td>Austin-Round Rock MSA</td>\n",
       "      <td>0.886169</td>\n",
       "    </tr>\n",
       "    <tr>\n",
       "      <th>7</th>\n",
       "      <td>44-45</td>\n",
       "      <td>Retail Trade</td>\n",
       "      <td>5886</td>\n",
       "      <td>98831</td>\n",
       "      <td>Austin-Round Rock MSA</td>\n",
       "      <td>1.026170</td>\n",
       "    </tr>\n",
       "    <tr>\n",
       "      <th>8</th>\n",
       "      <td>48-49</td>\n",
       "      <td>Transportation and Warehousing</td>\n",
       "      <td>790</td>\n",
       "      <td>13551</td>\n",
       "      <td>Austin-Round Rock MSA</td>\n",
       "      <td>0.441452</td>\n",
       "    </tr>\n",
       "    <tr>\n",
       "      <th>9</th>\n",
       "      <td>51</td>\n",
       "      <td>Information</td>\n",
       "      <td>1129</td>\n",
       "      <td>31857</td>\n",
       "      <td>Austin-Round Rock MSA</td>\n",
       "      <td>1.831615</td>\n",
       "    </tr>\n",
       "    <tr>\n",
       "      <th>10</th>\n",
       "      <td>52</td>\n",
       "      <td>Finance and Insurance</td>\n",
       "      <td>3217</td>\n",
       "      <td>34508</td>\n",
       "      <td>Austin-Round Rock MSA</td>\n",
       "      <td>0.925618</td>\n",
       "    </tr>\n",
       "    <tr>\n",
       "      <th>11</th>\n",
       "      <td>53</td>\n",
       "      <td>Real Estate and Rental and Leasing</td>\n",
       "      <td>2694</td>\n",
       "      <td>16794</td>\n",
       "      <td>Austin-Round Rock MSA</td>\n",
       "      <td>1.179950</td>\n",
       "    </tr>\n",
       "    <tr>\n",
       "      <th>12</th>\n",
       "      <td>54</td>\n",
       "      <td>Professional, Scientific, and Technical Services</td>\n",
       "      <td>7984</td>\n",
       "      <td>78996</td>\n",
       "      <td>Austin-Round Rock MSA</td>\n",
       "      <td>1.566366</td>\n",
       "    </tr>\n",
       "    <tr>\n",
       "      <th>13</th>\n",
       "      <td>55</td>\n",
       "      <td>Management of Companies and Enterprises</td>\n",
       "      <td>346</td>\n",
       "      <td>15608</td>\n",
       "      <td>Austin-Round Rock MSA</td>\n",
       "      <td>0.689241</td>\n",
       "    </tr>\n",
       "    <tr>\n",
       "      <th>14</th>\n",
       "      <td>56</td>\n",
       "      <td>Administrative and Support and Waste Managemen...</td>\n",
       "      <td>2406</td>\n",
       "      <td>66549</td>\n",
       "      <td>Austin-Round Rock MSA</td>\n",
       "      <td>1.223459</td>\n",
       "    </tr>\n",
       "    <tr>\n",
       "      <th>15</th>\n",
       "      <td>61</td>\n",
       "      <td>Educational Services</td>\n",
       "      <td>846</td>\n",
       "      <td>16735</td>\n",
       "      <td>Austin-Round Rock MSA</td>\n",
       "      <td>1.331661</td>\n",
       "    </tr>\n",
       "    <tr>\n",
       "      <th>16</th>\n",
       "      <td>62</td>\n",
       "      <td>Health Care and Social Assistance</td>\n",
       "      <td>4966</td>\n",
       "      <td>89664</td>\n",
       "      <td>Austin-Round Rock MSA</td>\n",
       "      <td>0.829671</td>\n",
       "    </tr>\n",
       "    <tr>\n",
       "      <th>17</th>\n",
       "      <td>71</td>\n",
       "      <td>Arts, Entertainment, and Recreation</td>\n",
       "      <td>802</td>\n",
       "      <td>12313</td>\n",
       "      <td>Austin-Round Rock MSA</td>\n",
       "      <td>1.267625</td>\n",
       "    </tr>\n",
       "    <tr>\n",
       "      <th>18</th>\n",
       "      <td>72</td>\n",
       "      <td>Accommodation and Food Services</td>\n",
       "      <td>4216</td>\n",
       "      <td>97914</td>\n",
       "      <td>Austin-Round Rock MSA</td>\n",
       "      <td>1.180896</td>\n",
       "    </tr>\n",
       "    <tr>\n",
       "      <th>19</th>\n",
       "      <td>81</td>\n",
       "      <td>Other Services (except Public Administration)</td>\n",
       "      <td>4136</td>\n",
       "      <td>37594</td>\n",
       "      <td>Austin-Round Rock MSA</td>\n",
       "      <td>1.118423</td>\n",
       "    </tr>\n",
       "    <tr>\n",
       "      <th>20</th>\n",
       "      <td>99</td>\n",
       "      <td>Industries not classified</td>\n",
       "      <td>110</td>\n",
       "      <td>14</td>\n",
       "      <td>Austin-Round Rock MSA</td>\n",
       "      <td>0.313404</td>\n",
       "    </tr>\n",
       "  </tbody>\n",
       "</table>\n",
       "</div>"
      ],
      "text/plain": [
       "   NAICS2012                                      NAICS2012_TTL  ESTAB  \\\n",
       "0         00                              Total for all sectors  46884   \n",
       "1         11         Agriculture, Forestry, Fishing and Hunting     28   \n",
       "2         21      Mining, Quarrying, and Oil and Gas Extraction    216   \n",
       "3         22                                          Utilities    116   \n",
       "4         23                                       Construction   3665   \n",
       "5      31-33                                      Manufacturing   1299   \n",
       "6         42                                    Wholesale Trade   2032   \n",
       "7      44-45                                       Retail Trade   5886   \n",
       "8      48-49                     Transportation and Warehousing    790   \n",
       "9         51                                        Information   1129   \n",
       "10        52                              Finance and Insurance   3217   \n",
       "11        53                 Real Estate and Rental and Leasing   2694   \n",
       "12        54   Professional, Scientific, and Technical Services   7984   \n",
       "13        55            Management of Companies and Enterprises    346   \n",
       "14        56  Administrative and Support and Waste Managemen...   2406   \n",
       "15        61                               Educational Services    846   \n",
       "16        62                  Health Care and Social Assistance   4966   \n",
       "17        71                Arts, Entertainment, and Recreation    802   \n",
       "18        72                    Accommodation and Food Services   4216   \n",
       "19        81      Other Services (except Public Administration)   4136   \n",
       "20        99                          Industries not classified    110   \n",
       "\n",
       "       EMP                GEO_TTL  location_quotient  \n",
       "0   745697  Austin-Round Rock MSA           1.000000  \n",
       "1       21  Austin-Round Rock MSA           0.069275  \n",
       "2     2440  Austin-Round Rock MSA           0.160404  \n",
       "3     2282  Austin-Round Rock MSA           0.816960  \n",
       "4    45334  Austin-Round Rock MSA           1.003203  \n",
       "5    42592  Austin-Round Rock MSA           0.709544  \n",
       "6    34186  Austin-Round Rock MSA           0.886169  \n",
       "7    98831  Austin-Round Rock MSA           1.026170  \n",
       "8    13551  Austin-Round Rock MSA           0.441452  \n",
       "9    31857  Austin-Round Rock MSA           1.831615  \n",
       "10   34508  Austin-Round Rock MSA           0.925618  \n",
       "11   16794  Austin-Round Rock MSA           1.179950  \n",
       "12   78996  Austin-Round Rock MSA           1.566366  \n",
       "13   15608  Austin-Round Rock MSA           0.689241  \n",
       "14   66549  Austin-Round Rock MSA           1.223459  \n",
       "15   16735  Austin-Round Rock MSA           1.331661  \n",
       "16   89664  Austin-Round Rock MSA           0.829671  \n",
       "17   12313  Austin-Round Rock MSA           1.267625  \n",
       "18   97914  Austin-Round Rock MSA           1.180896  \n",
       "19   37594  Austin-Round Rock MSA           1.118423  \n",
       "20      14  Austin-Round Rock MSA           0.313404  "
      ]
     },
     "execution_count": 12,
     "metadata": {},
     "output_type": "execute_result"
    }
   ],
   "source": [
    "austin_msa"
   ]
  },
  {
   "cell_type": "code",
   "execution_count": 13,
   "metadata": {
    "collapsed": true
   },
   "outputs": [],
   "source": [
    "texas06 = Counties(state_fips='48', year=2006, read_from='csv', filepath='texas_cbp_2006.csv')"
   ]
  },
  {
   "cell_type": "code",
   "execution_count": 14,
   "metadata": {
    "collapsed": false
   },
   "outputs": [],
   "source": [
    "austin_region_06 = texas06.two_digit(county=fips)"
   ]
  },
  {
   "cell_type": "code",
   "execution_count": 15,
   "metadata": {
    "collapsed": true
   },
   "outputs": [],
   "source": [
    "aggs = {\n",
    "    'EMP':'sum',\n",
    "    'ESTAB':'sum'\n",
    "}\n",
    "austin_msa_06 = austin_region_06.groupby('NAICS2012',as_index=False).agg(aggs)\n",
    "austin_msa_06['GEO_TTL'] = 'Austin-Round Rock MSA'"
   ]
  },
  {
   "cell_type": "code",
   "execution_count": 16,
   "metadata": {
    "collapsed": false
   },
   "outputs": [],
   "source": [
    "austin_msa_emp_06 = austin_msa_06.set_index('NAICS2012').EMP\n",
    "texas_total_emp_06 = texas06.two_digit().groupby('NAICS2012').agg('sum').EMP"
   ]
  },
  {
   "cell_type": "code",
   "execution_count": 19,
   "metadata": {
    "collapsed": false
   },
   "outputs": [],
   "source": [
    "ss= utils.shift_share(small_old=austin_msa_emp_06,\n",
    "                  small_new=austin_msa_emp,\n",
    "                  large_old=texas_total_emp_06,\n",
    "                  large_new=texas_total_emp)"
   ]
  },
  {
   "cell_type": "code",
   "execution_count": 21,
   "metadata": {
    "collapsed": false
   },
   "outputs": [
    {
     "data": {
      "text/html": [
       "<div>\n",
       "<table border=\"1\" class=\"dataframe\">\n",
       "  <thead>\n",
       "    <tr style=\"text-align: right;\">\n",
       "      <th></th>\n",
       "      <th>small_old</th>\n",
       "      <th>small_new</th>\n",
       "      <th>large_old</th>\n",
       "      <th>large_new</th>\n",
       "      <th>large_growth_share</th>\n",
       "      <th>large_industry_growth_rate</th>\n",
       "      <th>industry_mix</th>\n",
       "      <th>small_industry_growth_rate</th>\n",
       "      <th>local_competitiveness</th>\n",
       "    </tr>\n",
       "    <tr>\n",
       "      <th>NAICS2012</th>\n",
       "      <th></th>\n",
       "      <th></th>\n",
       "      <th></th>\n",
       "      <th></th>\n",
       "      <th></th>\n",
       "      <th></th>\n",
       "      <th></th>\n",
       "      <th></th>\n",
       "      <th></th>\n",
       "    </tr>\n",
       "  </thead>\n",
       "  <tbody>\n",
       "    <tr>\n",
       "      <th>00</th>\n",
       "      <td>609646</td>\n",
       "      <td>745697</td>\n",
       "      <td>8711361</td>\n",
       "      <td>9598578</td>\n",
       "      <td>62089.987452</td>\n",
       "      <td>0.101846</td>\n",
       "      <td>0.000000</td>\n",
       "      <td>0.223164</td>\n",
       "      <td>73961.012548</td>\n",
       "    </tr>\n",
       "    <tr>\n",
       "      <th>11</th>\n",
       "      <td>55</td>\n",
       "      <td>21</td>\n",
       "      <td>5343</td>\n",
       "      <td>3902</td>\n",
       "      <td>5.601528</td>\n",
       "      <td>-0.269699</td>\n",
       "      <td>-20.434955</td>\n",
       "      <td>-0.618182</td>\n",
       "      <td>-19.166573</td>\n",
       "    </tr>\n",
       "    <tr>\n",
       "      <th>21</th>\n",
       "      <td>1439</td>\n",
       "      <td>2440</td>\n",
       "      <td>141126</td>\n",
       "      <td>195803</td>\n",
       "      <td>146.556349</td>\n",
       "      <td>0.387434</td>\n",
       "      <td>410.961068</td>\n",
       "      <td>0.695622</td>\n",
       "      <td>443.482583</td>\n",
       "    </tr>\n",
       "    <tr>\n",
       "      <th>22</th>\n",
       "      <td>789</td>\n",
       "      <td>2282</td>\n",
       "      <td>28784</td>\n",
       "      <td>35955</td>\n",
       "      <td>80.356469</td>\n",
       "      <td>0.249131</td>\n",
       "      <td>116.208254</td>\n",
       "      <td>1.892269</td>\n",
       "      <td>1296.435277</td>\n",
       "    </tr>\n",
       "    <tr>\n",
       "      <th>23</th>\n",
       "      <td>41128</td>\n",
       "      <td>45334</td>\n",
       "      <td>551643</td>\n",
       "      <td>581674</td>\n",
       "      <td>4188.721002</td>\n",
       "      <td>0.054439</td>\n",
       "      <td>-1949.745853</td>\n",
       "      <td>0.102266</td>\n",
       "      <td>1967.024851</td>\n",
       "    </tr>\n",
       "  </tbody>\n",
       "</table>\n",
       "</div>"
      ],
      "text/plain": [
       "           small_old  small_new  large_old  large_new  large_growth_share  \\\n",
       "NAICS2012                                                                   \n",
       "00            609646     745697    8711361    9598578        62089.987452   \n",
       "11                55         21       5343       3902            5.601528   \n",
       "21              1439       2440     141126     195803          146.556349   \n",
       "22               789       2282      28784      35955           80.356469   \n",
       "23             41128      45334     551643     581674         4188.721002   \n",
       "\n",
       "           large_industry_growth_rate  industry_mix  \\\n",
       "NAICS2012                                             \n",
       "00                           0.101846      0.000000   \n",
       "11                          -0.269699    -20.434955   \n",
       "21                           0.387434    410.961068   \n",
       "22                           0.249131    116.208254   \n",
       "23                           0.054439  -1949.745853   \n",
       "\n",
       "           small_industry_growth_rate  local_competitiveness  \n",
       "NAICS2012                                                     \n",
       "00                           0.223164           73961.012548  \n",
       "11                          -0.618182             -19.166573  \n",
       "21                           0.695622             443.482583  \n",
       "22                           1.892269            1296.435277  \n",
       "23                           0.102266            1967.024851  "
      ]
     },
     "execution_count": 21,
     "metadata": {},
     "output_type": "execute_result"
    }
   ],
   "source": [
    "ss.head()"
   ]
  },
  {
   "cell_type": "code",
   "execution_count": 39,
   "metadata": {
    "collapsed": true
   },
   "outputs": [],
   "source": [
    "res = pd.DataFrame()"
   ]
  },
  {
   "cell_type": "code",
   "execution_count": 40,
   "metadata": {
    "collapsed": false
   },
   "outputs": [],
   "source": [
    "res.loc['small_growth', 'description'] = 'Growth in smaller geography'\n",
    "res.loc['small_growth', 'absolute'] = ss_no00.small_new.sum() - ss_no00.small_old.sum()\n",
    "res.loc['small_growth', 'percentage'] =( ss_no00.small_new.sum() - ss_no00.small_old.sum())/ss_no00.small_old.sum()"
   ]
  },
  {
   "cell_type": "code",
   "execution_count": 42,
   "metadata": {
    "collapsed": true
   },
   "outputs": [],
   "source": [
    "res.loc['large_growth', 'description'] = 'Growth in larger geography'\n",
    "res.loc['large_growth', 'absolute'] = ss_no00.large_new.sum() - ss_no00.large_old.sum()\n",
    "res.loc['large_growth', 'percentage'] =( ss_no00.large_new.sum() - ss_no00.large_old.sum())/ss_no00.large_old.sum()"
   ]
  },
  {
   "cell_type": "code",
   "execution_count": 44,
   "metadata": {
    "collapsed": true
   },
   "outputs": [],
   "source": [
    "res.loc['large_growth_share', 'description'] = 'Growth attributable to larger geography growth rate'\n",
    "res.loc['large_growth_share', 'absolute'] = ss_no00.large_growth_share.sum()\n",
    "res.loc['large_growth_share', 'percentage'] = ss_no00.large_growth_share.sum() / res.loc['small_growth', 'absolute']"
   ]
  },
  {
   "cell_type": "code",
   "execution_count": 46,
   "metadata": {
    "collapsed": true
   },
   "outputs": [],
   "source": [
    "res.loc['industry_mix', 'description'] = 'Growth attributable to industry mix'\n",
    "res.loc['industry_mix', 'absolute'] = ss_no00.industry_mix.sum()\n",
    "res.loc['industry_mix', 'percentage'] = ss_no00.industry_mix.sum() / res.loc['small_growth', 'absolute']"
   ]
  },
  {
   "cell_type": "code",
   "execution_count": 48,
   "metadata": {
    "collapsed": true
   },
   "outputs": [],
   "source": [
    "res.loc['local_competitiveness', 'description'] = 'Growth attributable to local competitiveness'\n",
    "res.loc['local_competitiveness', 'absolute'] = ss_no00.local_competitiveness.sum()\n",
    "res.loc['local_competitiveness', 'percentage'] = ss_no00.local_competitiveness.sum() / res.loc['small_growth', 'absolute']"
   ]
  },
  {
   "cell_type": "code",
   "execution_count": 49,
   "metadata": {
    "collapsed": false
   },
   "outputs": [
    {
     "data": {
      "text/html": [
       "<div>\n",
       "<table border=\"1\" class=\"dataframe\">\n",
       "  <thead>\n",
       "    <tr style=\"text-align: right;\">\n",
       "      <th></th>\n",
       "      <th>description</th>\n",
       "      <th>absolute</th>\n",
       "      <th>percentage</th>\n",
       "    </tr>\n",
       "  </thead>\n",
       "  <tbody>\n",
       "    <tr>\n",
       "      <th>small_growth</th>\n",
       "      <td>Job growth in smaller geography</td>\n",
       "      <td>136761.000000</td>\n",
       "      <td>0.227547</td>\n",
       "    </tr>\n",
       "    <tr>\n",
       "      <th>large_growth</th>\n",
       "      <td>Job growth in larger geography</td>\n",
       "      <td>784017.000000</td>\n",
       "      <td>0.090705</td>\n",
       "    </tr>\n",
       "    <tr>\n",
       "      <th>large_growth_share</th>\n",
       "      <td>Growth attributable to larger geography growth...</td>\n",
       "      <td>61211.667818</td>\n",
       "      <td>0.447581</td>\n",
       "    </tr>\n",
       "    <tr>\n",
       "      <th>industry_mix</th>\n",
       "      <td>Growth attributable to industry mix</td>\n",
       "      <td>-7224.713613</td>\n",
       "      <td>-0.052827</td>\n",
       "    </tr>\n",
       "    <tr>\n",
       "      <th>local_competitiveness</th>\n",
       "      <td>Growth attributable to local competitiveness</td>\n",
       "      <td>82774.045795</td>\n",
       "      <td>0.605246</td>\n",
       "    </tr>\n",
       "  </tbody>\n",
       "</table>\n",
       "</div>"
      ],
      "text/plain": [
       "                                                             description  \\\n",
       "small_growth                             Job growth in smaller geography   \n",
       "large_growth                              Job growth in larger geography   \n",
       "large_growth_share     Growth attributable to larger geography growth...   \n",
       "industry_mix                         Growth attributable to industry mix   \n",
       "local_competitiveness       Growth attributable to local competitiveness   \n",
       "\n",
       "                            absolute  percentage  \n",
       "small_growth           136761.000000    0.227547  \n",
       "large_growth           784017.000000    0.090705  \n",
       "large_growth_share      61211.667818    0.447581  \n",
       "industry_mix            -7224.713613   -0.052827  \n",
       "local_competitiveness   82774.045795    0.605246  "
      ]
     },
     "execution_count": 49,
     "metadata": {},
     "output_type": "execute_result"
    }
   ],
   "source": [
    "res"
   ]
  },
  {
   "cell_type": "code",
   "execution_count": 51,
   "metadata": {
    "collapsed": false
   },
   "outputs": [
    {
     "data": {
      "text/plain": [
       "136761.0"
      ]
     },
     "execution_count": 51,
     "metadata": {},
     "output_type": "execute_result"
    }
   ],
   "source": [
    "res.loc[['large_growth_share', 'industry_mix', 'local_competitiveness'], 'absolute'].sum()"
   ]
  },
  {
   "cell_type": "code",
   "execution_count": null,
   "metadata": {
    "collapsed": true
   },
   "outputs": [],
   "source": []
  },
  {
   "cell_type": "code",
   "execution_count": 23,
   "metadata": {
    "collapsed": false
   },
   "outputs": [],
   "source": [
    "ss_no00 = ss[ss.index != '00']"
   ]
  },
  {
   "cell_type": "code",
   "execution_count": 26,
   "metadata": {
    "collapsed": false
   },
   "outputs": [
    {
     "data": {
      "text/plain": [
       "82774.0457949365"
      ]
     },
     "execution_count": 26,
     "metadata": {},
     "output_type": "execute_result"
    }
   ],
   "source": [
    "ss_no00.local_competitiveness.sum()"
   ]
  },
  {
   "cell_type": "code",
   "execution_count": null,
   "metadata": {
    "collapsed": false
   },
   "outputs": [],
   "source": [
    "df.columns = ['small']"
   ]
  },
  {
   "cell_type": "code",
   "execution_count": null,
   "metadata": {
    "collapsed": false
   },
   "outputs": [],
   "source": [
    "df"
   ]
  },
  {
   "cell_type": "code",
   "execution_count": null,
   "metadata": {
    "collapsed": false
   },
   "outputs": [],
   "source": [
    "larger = texas.two_digit().groupby('NAICS2012').agg('sum').EMP"
   ]
  },
  {
   "cell_type": "code",
   "execution_count": null,
   "metadata": {
    "collapsed": true
   },
   "outputs": [],
   "source": [
    "df['large'] = larger"
   ]
  },
  {
   "cell_type": "code",
   "execution_count": null,
   "metadata": {
    "collapsed": false
   },
   "outputs": [],
   "source": [
    "df"
   ]
  },
  {
   "cell_type": "code",
   "execution_count": null,
   "metadata": {
    "collapsed": false
   },
   "outputs": [],
   "source": [
    "total_emp_row = df.loc['00']"
   ]
  },
  {
   "cell_type": "code",
   "execution_count": null,
   "metadata": {
    "collapsed": false
   },
   "outputs": [],
   "source": [
    "total_emp_row.small"
   ]
  },
  {
   "cell_type": "code",
   "execution_count": null,
   "metadata": {
    "collapsed": false
   },
   "outputs": [],
   "source": [
    "all(larger.index == small.index)"
   ]
  },
  {
   "cell_type": "code",
   "execution_count": null,
   "metadata": {
    "collapsed": true
   },
   "outputs": [],
   "source": []
  }
 ],
 "metadata": {
  "celltoolbar": "Raw Cell Format",
  "kernelspec": {
   "display_name": "Python 2",
   "language": "python",
   "name": "python2"
  },
  "language_info": {
   "codemirror_mode": {
    "name": "ipython",
    "version": 2
   },
   "file_extension": ".py",
   "mimetype": "text/x-python",
   "name": "python",
   "nbconvert_exporter": "python",
   "pygments_lexer": "ipython2",
   "version": "2.7.12"
  }
 },
 "nbformat": 4,
 "nbformat_minor": 0
}
